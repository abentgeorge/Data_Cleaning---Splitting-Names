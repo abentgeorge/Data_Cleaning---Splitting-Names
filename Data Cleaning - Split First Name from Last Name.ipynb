{
 "cells": [
  {
   "cell_type": "code",
   "execution_count": 17,
   "metadata": {},
   "outputs": [],
   "source": [
    "# IMPORT EXCEL - CLEAN EXCEL - WRITE BACK INTO EXCEL"
   ]
  },
  {
   "cell_type": "code",
   "execution_count": 18,
   "metadata": {},
   "outputs": [
    {
     "output_type": "stream",
     "name": "stdout",
     "text": [
      "                    first_name                     email     location\n0  Hymenolaimus malacorhynchus             cgynn0@goo.gl        China\n1           Dicrurus adsimilis      afancourt1@wired.com       France\n2            Damaliscus dorcas           aitzig2@soup.io        China\n3                Taxidea taxus  itanslie3@indiatimes.com  Philippines\n4         Crocodylus niloticus     gshann4@rakuten.co.jp       Poland\n5               Tayassu tajacu   mbeven5@nydailynews.com    Indonesia\n6       Myiarchus tuberculifer      mvogeler6@oracle.com     Thailand\n7       Pituophis melanaleucus       wbarribal7@etsy.com       Russia\n8               Colobus guerza        rmayling8@sohu.com       Russia\n9     Eurocephalus anguitimens        jeyrl9@shop-pro.jp        China\n"
     ]
    }
   ],
   "source": [
    "import pandas as pd\n",
    "\n",
    "\n",
    "excel_workbook = 'toclean.xlsx'\n",
    "\n",
    "\n",
    "sheet1 = pd.read_excel(excel_workbook)\n",
    "\n",
    "print(sheet1.head(10))"
   ]
  },
  {
   "cell_type": "code",
   "execution_count": 19,
   "metadata": {},
   "outputs": [],
   "source": [
    "##          TASK 1) CREATE SEPERATE LISTS(COLUMNS) FOR FIRST NAME AND LAST NAME\n",
    "\n",
    "first_name_list =[]\n",
    "\n",
    "last_name_list =[]\n",
    "\n",
    "\n",
    "# FOR LOOP - FOR EVERY ENTRY SEPERATE FIRST NAME AND LAST NAME AND ADD TO LISTS:\n",
    "#             pull out the column into a df first\n",
    "\n",
    "excel_names = sheet1['first_name']\n",
    "\n",
    "#  print(excel_names)"
   ]
  },
  {
   "cell_type": "code",
   "execution_count": 20,
   "metadata": {},
   "outputs": [
    {
     "output_type": "stream",
     "name": "stdout",
     "text": [
      "['Hymenolaimus', 'Dicrurus', 'Damaliscus', 'Taxidea', 'Crocodylus', 'Tayassu', 'Myiarchus', 'Pituophis', 'Colobus', 'Eurocephalus', 'Pterocles', 'Columba', 'Spermophilus', 'Raphicerus', 'Bubalus', 'Fulica', 'Vombatus', 'Sarkidornis', 'Pycnonotus', 'Phascogale', 'Naja', 'Butorides', 'Nannopterum', 'Spermophilus', 'Ara', 'Delphinus', 'Chamaelo', 'Ratufa', 'Butorides', 'Eumetopias', 'Vombatus', 'Spermophilus', 'Certotrichas', 'Prionace', 'Otaria', 'Francolinus', 'Ara', 'Tragelaphus', 'Lamprotornis', 'Pseudocheirus', 'Uraeginthus', 'Castor', 'Zenaida', 'Eudyptula', 'Eudyptula', 'Falco', 'Bassariscus', 'Phascogale', 'Lama', 'Herpestes', 'Bos', 'Panthera', 'Geospiza', 'Coluber', 'Dendrocitta', 'Cyrtodactylus', 'Lepilemur', 'Cereopsis', 'Zosterops', 'Anitibyx', 'Butorides', 'Chlidonias', 'Dasypus', 'Pteronura', 'Hystrix', 'Francolinus', 'Macropus', 'Chelodina', 'Lorythaixoides', 'Diceros', 'Potorous', 'Petaurus', 'Actophilornis', 'Coendou', 'Bradypus', 'Canis', 'Haematopus', 'Canis', 'Creagrus', 'Cyrtodactylus', 'Mirounga', 'Numida', 'Canis', 'Uraeginthus', 'Crotaphytus', 'Castor', 'Anas', 'Laniarius', 'Ploceus', 'Trichoglossus', 'Oryx', 'Cervus', 'Corythornis', 'Lamprotornis', 'Myrmecophaga', 'Caiman', 'Phalaropus', 'Vulpes', 'Crotaphytus', 'Lophoaetus', 'Anas', 'Spermophilus', 'Anas', 'Felis', 'Zalophus', 'Hippopotamus', 'Cygnus', 'Hippotragus', 'Larus', 'Spermophilus', 'Rhea', 'Bettongia', 'Lybius', 'Butorides', 'Petaurus', 'Ephippiorhynchus', 'Lorythaixoides', 'Stenella', 'Macropus', 'Panthera', 'Petaurus', 'Felis', 'Macropus', 'Loris', 'Bubalus', 'Canis', 'Macropus', 'Pseudocheirus', 'Haliaeetus', 'Canis', 'Certotrichas', 'Acrobates', 'Platalea', 'Paradoxurus', 'Antidorcas', 'Mycteria', 'Panthera', 'Columba', 'Gekko', 'Canis', 'Bucephala', 'Tachyglossus', 'Carduelis', 'Felis', 'Halcyon', 'Lutra', 'Priodontes', 'Junonia', 'Nasua', 'Taxidea', 'Lamprotornis', 'Lamprotornis', 'Panthera', 'Kobus', 'Platalea', 'Manouria', 'Toxostoma', 'Lamprotornis', 'Stenella', 'Fulica', 'Diceros', 'Felis', 'Macropus', 'Nectarinia', 'Odocoilenaus', 'Gyps', 'Colaptes', 'Bradypus', 'Ovis', 'Cacatua', 'Ciconia', 'Eurocephalus', 'Hymenolaimus', 'Ninox', 'Eurocephalus', 'Limnocorax', 'Canis', 'Anser', 'Gymnorhina', 'Erethizon', 'Cebus', 'Morelia', 'Cyrtodactylus', 'Varanus', 'Macropus', 'Antechinus', 'Chlamydosaurus', 'Nasua', 'Aonyx', 'Dendrocitta', 'Manouria', 'Casmerodius', 'Speotyte', 'Francolinus', 'Microcebus', 'Neophoca', 'Snycerus', 'Merops', 'Ovis', 'Bubalus', 'Porphyrio', 'Macaca', 'Lama', 'Corvus', 'Spizaetus', 'Geochelone', 'Fregata', 'Eudyptula', 'Dusicyon', 'Zonotrichia', 'Gazella', 'Crotalus', 'Eumetopias', 'Vulpes', 'Ephippiorhynchus', 'Mirounga', 'Fulica', 'Varanus', 'Dasyurus', 'Phalacrocorax', 'Gazella', 'Canis', 'Alcelaphus', 'Vanellus', 'Felis', 'Ovis', 'Raphicerus', 'Milvago', 'Psophia', 'Mycteria', 'Chlamydosaurus', 'Oncorhynchus', 'Dusicyon', 'Chloephaga', 'Sylvilagus', 'Propithecus', 'Cervus', 'Lycaon', 'Deroptyus', 'Corvus', 'Bassariscus', 'Semnopithecus', 'Phasianus', 'Hyaena', 'Felis', 'Butorides', 'Cracticus', 'Spermophilus', 'Snycerus', 'Meleagris', 'Felis', 'Dasypus', 'Propithecus', 'Leipoa', 'Eutamias', 'Cochlearius', 'Merops', 'Neophron', 'Phoca', 'Buteo', 'Felis', 'Pseudoleistes', 'Phalaropus', 'Madoqua', 'Laniaurius', 'Antechinus', 'Phascogale', 'Heloderma', 'Chelodina', 'Trachyphonus', 'Corvus', 'Lutra', 'Myotis', 'Leprocaulinus', 'Uraeginthus', 'Heloderma', 'Anhinga', 'Canis', 'Smithopsis', 'Spermophilus', 'Equus', 'Castor', 'Felis', 'Tockus', 'Nyctanassa', 'Pitangus', 'Boselaphus', 'Vombatus', 'Cordylus', 'Ceratotherium', 'Tragelaphus', 'Felis', 'Meles', 'Libellula', 'Gazella', 'Pseudalopex', 'Felis', 'Varanus', 'Neotoma', 'Paraxerus', 'Nasua', 'Coracias', 'Ratufa', 'Butorides', 'Ourebia', 'Felis', 'Meleagris', 'Procyon', 'Ninox', 'Echimys', 'Aonyx', 'Neophron', 'Paroaria', 'Cochlearius', 'Branta', 'Ephipplorhynchus', 'Bettongia', 'Pavo', 'Colobus', 'Haliaeetus', 'Columba', 'Macropus', 'Tamiasciurus', 'Dasyurus', 'Geochelone', 'Heloderma', 'Pteronura', 'Cygnus', 'Papio', 'Tachyglossus', 'Cervus', 'Notechis', 'Erethizon', 'Gymnorhina', 'Ciconia', 'Lepilemur', 'Nucifraga', 'Dasyurus', 'Lamprotornis', 'Picoides', 'Felis', 'Gymnorhina', 'Ceratotherium', 'Anser', 'Felis', 'Macropus', 'Phalacrocorax', 'Lophoaetus', 'Lybius', 'Colaptes', 'Nycticorax', 'Semnopithecus', 'Tapirus', 'Francolinus', 'Bubo', 'Dusicyon', 'Haematopus', 'Macropus', 'Milvago', 'Erethizon', 'Streptopelia', 'Carduelis', 'Cervus', 'Damaliscus', 'Colaptes', 'Estrilda', 'Tamandua', 'Pycnonotus', 'Nectarinia', 'Chelodina', 'Tayassu', 'Rhea', 'Lemur', 'Egretta', 'Delphinus', 'Heloderma', 'Laniarius', 'Agkistrodon', 'Bettongia', 'Aonyx', 'Chelodina', 'Conolophus', 'Psophia', 'Phoenicopterus', 'Bubalus', 'Vanellus', 'Halcyon', 'Junonia', 'Eolophus', 'Terathopius', 'Streptopelia', 'Ramphastos', 'Ursus', 'Motacilla', 'Coluber', 'Felis', 'Chelodina', 'Iguana', 'Falco', 'Motacilla', 'Sauromalus', 'Pelecanus', 'Chionis', 'Tursiops', 'Gabianus', 'Porphyrio', 'Semnopithecus', 'Tiliqua', 'Ciconia', 'Bubalus', 'Varanus', 'Dusicyon', 'Vulpes', 'Macropus', 'Zosterops', 'Panthera', 'Tachyglossus', 'Butorides', 'Pelecanus', 'Corvus', 'Kobus', 'Turtur', 'Paroaria', 'Laniarius', 'Varanus', 'Macaca', 'Threskionis', 'Paradoxurus', 'Paradoxurus', 'Tockus', 'Spermophilus', 'Streptopelia', 'Cebus', 'Macaca', 'Phalaropus', 'Potamochoerus', 'Varanus', 'Bucephala', 'Ciconia', 'Mirounga', 'Ratufa', 'Canis', 'Procyon', 'Orcinus', 'Microcebus', 'Canis', 'Sciurus', 'Geochelone', 'Lasiorhinus', 'Speothos', 'Phalacrocorax', 'Larus', 'Pelecans', 'Damaliscus', 'Phascogale', 'Lemur', 'Phacochoerus', 'Caiman', 'Lamprotornis', 'Chauna', 'Dasypus', 'Ateles', 'Lemur', 'Cochlearius', 'Creagrus', 'Meles', 'Ovis', 'Ramphastos', 'Estrilda', 'Drymarchon', 'Platalea', 'Tachybaptus', 'Hippotragus', 'Alcelaphus', 'Larus', 'Lepilemur', 'Leptoptilos', 'Calyptorhynchus', 'Plocepasser', 'Lasiorhinus', 'Bos', 'Dusicyon', 'Dasypus', 'Tayassu', 'Oryx', 'Spizaetus', 'Ovis', 'Vanessa', 'Castor', 'Cacatua', 'Genetta', 'Varanus', 'Ramphastos', 'Sarcorhamphus', 'Leptoptilos', 'Choloepus', 'Phoenicopterus', 'Acinynox', 'Sula', 'Acanthaster', 'Ursus', 'Phylurus', 'Phalacrocorax', 'Phalacrocorax', 'Pteronura', 'Phalacrocorax', 'Bassariscus', 'Hippotragus', 'Picoides', 'Chionis', 'Paraxerus', 'Globicephala', 'Ara', 'Spermophilus', 'Diomedea', 'Ploceus', 'Dasypus', 'Otocyon', 'Mustela', 'Connochaetus', 'Dasyurus', 'Geochelone', 'Canis', 'Phalaropus', 'Vulpes', 'Cyrtodactylus', 'Turtur', 'Phoenicopterus', 'Coendou', 'Lasiodora', 'Felis', 'Trichoglossus', 'Felis', 'Podargus', 'Dendrocitta', 'Felis', 'Marmota', 'Felis', 'Cochlearius', 'Felis', 'Canis', 'Mycteria', 'Ratufa', 'Phalacrocorax', 'Lutra', 'Anitibyx', 'Cercatetus', 'Myotis', 'Iguana', 'Climacteris', 'Ciconia', 'Cereopsis', 'Meleagris', 'Castor', 'Coluber', 'Dasypus', 'Martes', 'Meleagris', 'Equus', 'Lutra', 'Phasianus', 'Pteronura', 'Propithecus', 'Sarkidornis', 'Colaptes', 'Phasianus', 'Nyctereutes', 'Pedetes', 'Damaliscus', 'Platalea', 'Bucephala', 'Grus', 'Coendou', 'Macropus', 'Vulpes', 'Geococcyx', 'Numida', 'Corythornis', 'Iguana', 'Sus', 'Meles', 'Macropus', 'Cynictis', 'Cebus', 'Columba', 'Lorythaixoides', 'Fratercula', 'Pytilia', 'Pseudocheirus', 'Zenaida', 'Trichosurus', 'Nucifraga', 'Phalaropus', 'Mazama', 'Lasiodora', 'Erethizon', 'Macropus', 'Smithopsis', 'Ceratotherium', 'Aonyx', 'Canis', 'Aonyx', 'Epicrates', 'Streptopelia', 'Papilio', 'Myiarchus', 'Tauraco', 'Gymnorhina', 'Sarkidornis', 'Coluber', 'Falco', 'Papio', 'Actophilornis', 'Aegypius', 'Hymenolaimus', 'Pan', 'Ciconia', 'Tetracerus', 'Phalacrocorax', 'Sylvilagus', 'Crotalus', 'Phaethon', 'Aonyx', 'Aegypius', 'Uraeginthus', 'Pitangus', 'Lemur', 'Eudyptula', 'Bradypus', 'Canis', 'Ciconia', 'Upupa', 'Antilocapra', 'Eumetopias', 'Larus', 'Varanus', 'Macropus', 'Meles', 'Cercatetus', 'Erethizon', 'Stenella', 'Streptopelia', 'Equus', 'Paradoxurus', 'Bucorvus', 'Canis', 'Ara', 'Rhabdomys', 'Salvadora', 'Cervus', 'Geochelone', 'Nucifraga', 'Oreamnos', 'Hyaena', 'Coendou', 'Himantopus', 'Pelecans', 'Phalacrocorax', 'Melursus', 'Gazella', 'Anathana', 'Gekko', 'Ursus', 'Morelia', 'Sula', 'Eubalaena', 'Rangifer', 'Picoides', 'Mazama', 'Ovis', 'Motacilla', 'Neotis', 'Dasyurus', 'Phalaropus', 'Delphinus', 'Eudyptula', 'Phascogale', 'Gyps', 'Chelodina', 'Lamprotornis', 'Macaca', 'Paroaria', 'Aonyx', 'Theropithecus', 'Sciurus', 'Epicrates', 'Tenrec', 'Ardea', 'Anthropoides', 'Felis', 'Tayassu', 'Naja', 'Colaptes', 'Merops', 'Alopochen', 'Panthera', 'Papilio', 'Mirounga', 'Spermophilus', 'Callipepla', 'Potos', 'Equus', 'Pseudalopex', 'Ursus', 'Dusicyon', 'Macropus', 'Bassariscus', 'Neophron', 'Microcavia', 'Trichoglossus', 'Ovis', 'Dasyurus', 'Petaurus', 'Calyptorhynchus', 'Macropus', 'Papio', 'Gorilla', 'Pseudoleistes', 'Ateles', 'Terathopius', 'Nycticorax', 'Lama', 'Phoenicopterus', 'Sylvicapra', 'Ceratotherium', 'Vanellus', 'Gyps', 'Erinaceus', 'Hydrochoerus', 'Tamiasciurus', 'Trichosurus', 'Sciurus', 'Diomedea', 'Colobus', 'Stercorarius', 'Eutamias', 'Cebus', 'Isoodon', 'Neophron', 'Lamprotornis', 'Galictis', 'Gyps', 'Macropus', 'Spheniscus', 'Phasianus', 'Callorhinus', 'Theropithecus', 'Bucephala', 'Vanellus', 'Gazella', 'Naja', 'Libellula', 'Trachyphonus', 'Dromaeus', 'Trachyphonus', 'Potos', 'Parus', 'Ovibos', 'Lepus', 'Phoeniconaias', 'Spizaetus', 'Phascogale', 'Coluber', 'Tringa', 'Varanus', 'Antechinus', 'Cebus', 'Eumetopias', 'Ara', 'Dicrostonyx', 'Eolophus', 'Haliaetus', 'Cordylus', 'Eudyptula', 'Didelphis', 'Leptoptilos', 'Bradypus', 'Sciurus', 'Procyon', 'Sylvilagus', 'Dipodomys', 'Chauna', 'Nycticorax', 'Anser', 'Ciconia', 'Agkistrodon', 'Cynictis', 'Pelecanus', 'Choloepus', 'Mirounga', 'Haliaetus', 'Microcebus', 'Ictonyx', 'Buteo', 'Macropus', 'Papio', 'Varanus', 'Cochlearius', 'Ursus', 'Cacatua', 'Felis', 'Anser', 'Mustela', 'Felis', 'Ovis', 'Spheniscus', 'Ovis', 'Varanus', 'Funambulus', 'Chauna', 'Pterocles', 'Macaca', 'Merops', 'Vulpes', 'Colobus', 'Equus', 'Loxodonta', 'Mirounga', 'Spilogale', 'Lemur', 'Manouria', 'Paradoxurus', 'Macropus', 'Rhabdomys', 'Pseudalopex', 'Cynictis', 'Trichosurus', 'Conolophus', 'Bettongia', 'Sciurus', 'Buteo', 'Phalaropus', 'Plocepasser', 'Mabuya', 'Crotalus', 'Hippotragus', 'Lorythaixoides', 'Bison', 'Haliaeetus', 'Tayassu', 'Zosterops', 'Sylvicapra', 'Tockus', 'Alcelaphus', 'Stercorarius', 'Ara', 'Oreamnos', 'Odocoileus', 'Ciconia', 'Mazama', 'Castor', 'Kobus', 'Charadrius', 'Lamprotornis', 'Phalacrocorax', 'Psittacula', 'Phalaropus', 'Canis', 'Myrmecobius', 'Ceratotherium', 'Acrantophis', 'Naja', 'Falco', 'Anthropoides', 'Capreolus', 'Anitibyx', 'Canis', 'Platalea', 'Geococcyx', 'Trichosurus', 'Cathartes', 'Oryx', 'Capreolus', 'Zosterops', 'Diomedea', 'Smithopsis', 'Hyaena', 'Theropithecus', 'Tamandua', 'Odocoileus', 'Procyon', 'Ovis', 'Streptopelia', 'Haliaetus', 'Isoodon', 'Prionace', 'Cervus', 'Pelecanus', 'Ara', 'Upupa', 'Sula', 'Callorhinus', 'Laniaurius', 'Connochaetus', 'Phascolarctos', 'Pitangus', 'Varanus', 'Sitta', 'Chlamydosaurus', 'Eubalaena', 'Cacatua', 'Ara', 'Plegadis', 'Colobus', 'Ursus', 'Choloepus', 'Cyrtodactylus', 'Ovis', 'Grus', 'Aonyx', 'Vicugna', 'Tiliqua', 'Pycnonotus', 'Hystrix', 'Gopherus', 'Larus', 'Uraeginthus', 'Varanus', 'Falco', 'Aquila', 'Sarcorhamphus', 'Chlidonias', 'Uraeginthus', 'Equus', 'Bassariscus', 'Carphophis', 'Chordeiles', 'Bettongia', 'Anthropoides', 'Kobus', 'Trichoglossus', 'Junonia', 'Eumetopias', 'Motacilla', 'Nesomimus', 'Vanellus', 'Calyptorhynchus', 'Delphinus', 'Antidorcas', 'Canis', 'Capreolus', 'Thamnolaea', 'Vulpes', 'Mirounga', 'Ictonyx', 'Ninox', 'Chordeiles', 'Actophilornis', 'Cervus', 'Taurotagus', 'Phoeniconaias', 'Deroptyus', 'Pelecanus', 'Threskionis', 'Mazama', 'Potorous', 'Spizaetus', 'Tyto', 'Cacatua', 'Anastomus', 'Cacatua', 'Cebus', 'Callorhinus', 'Ammospermophilus', 'Gyps', 'Phylurus', 'Tayassu', 'Mungos', 'Macropus', 'Haliaeetus', 'Kobus', 'Ovis', 'Ratufa', 'Haliaetus', 'Eolophus', 'Tamandua', 'Conolophus', 'Creagrus', 'Melophus', 'Varanus', 'Stenella', 'Rhea', 'Boselaphus', 'Lepilemur', 'Larus']\n"
     ]
    }
   ],
   "source": [
    "\n",
    "for name in excel_names:\n",
    "    \n",
    "    first_name, last_name = name.split(' ', 1)  #.split = splits based on space b/w\n",
    "    \n",
    "    # Append into lists  Use .upper to change to uppercase\n",
    "    \n",
    "    first_name_list.append(first_name)\n",
    "    \n",
    "    last_name_list.append(last_name)\n",
    "    \n",
    "print(first_name_list)\n"
   ]
  },
  {
   "cell_type": "code",
   "execution_count": 21,
   "metadata": {},
   "outputs": [
    {
     "output_type": "stream",
     "name": "stdout",
     "text": [
      "                    first_name                     email     location\n0  Hymenolaimus malacorhynchus             cgynn0@goo.gl        China\n1           Dicrurus adsimilis      afancourt1@wired.com       France\n2            Damaliscus dorcas           aitzig2@soup.io        China\n3                Taxidea taxus  itanslie3@indiatimes.com  Philippines\n4         Crocodylus niloticus     gshann4@rakuten.co.jp       Poland\n"
     ]
    }
   ],
   "source": [
    "print(sheet1.head())"
   ]
  },
  {
   "cell_type": "code",
   "execution_count": 22,
   "metadata": {},
   "outputs": [
    {
     "output_type": "stream",
     "name": "stdout",
     "text": [
      "          first            last                     email     location\n0  Hymenolaimus  malacorhynchus             cgynn0@goo.gl        China\n1      Dicrurus       adsimilis      afancourt1@wired.com       France\n2    Damaliscus          dorcas           aitzig2@soup.io        China\n3       Taxidea           taxus  itanslie3@indiatimes.com  Philippines\n4    Crocodylus       niloticus     gshann4@rakuten.co.jp       Poland\n"
     ]
    }
   ],
   "source": [
    "######  ADDING seperation BACK INTO DATAFRAME\n",
    "\n",
    "sheet1.insert(0, \"first\", first_name_list)  # .insert( 0th position, column name, list to extract from)\n",
    "sheet1.insert(1, \"last\", last_name_list)\n",
    "\n",
    "\n",
    "# DELETE THE ORIGINAL JOINED COLUMN\n",
    "\n",
    "del sheet1['first_name']\n",
    "\n",
    "print(sheet1.head())"
   ]
  },
  {
   "cell_type": "code",
   "execution_count": 23,
   "metadata": {},
   "outputs": [],
   "source": [
    "#                               WRITING BACK INTO EXCEL WORKBOOK\n",
    "\n",
    "\n",
    "sheet1.to_excel(\"cleandummyoutput.xlsx\")"
   ]
  },
  {
   "cell_type": "code",
   "execution_count": null,
   "metadata": {},
   "outputs": [],
   "source": []
  }
 ],
 "metadata": {
  "kernelspec": {
   "display_name": "Python 3",
   "language": "python",
   "name": "python3"
  },
  "language_info": {
   "codemirror_mode": {
    "name": "ipython",
    "version": 3
   },
   "file_extension": ".py",
   "mimetype": "text/x-python",
   "name": "python",
   "nbconvert_exporter": "python",
   "pygments_lexer": "ipython3",
   "version": "3.7.6-final"
  }
 },
 "nbformat": 4,
 "nbformat_minor": 4
}